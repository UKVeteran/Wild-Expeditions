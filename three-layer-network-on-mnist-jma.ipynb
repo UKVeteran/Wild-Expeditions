{
 "cells": [
  {
   "cell_type": "code",
   "execution_count": 1,
   "metadata": {
    "_cell_guid": "b1076dfc-b9ad-4769-8c92-a6c4dae69d19",
    "_uuid": "8f2839f25d086af736a60e9eeb907d3b93b6e0e5"
   },
   "outputs": [
    {
     "name": "stderr",
     "output_type": "stream",
     "text": [
      "Using TensorFlow backend.\n"
     ]
    }
   ],
   "source": [
    "import sys, numpy as np\n",
    "from keras.datasets import mnist"
   ]
  },
  {
   "cell_type": "code",
   "execution_count": 2,
   "metadata": {
    "_cell_guid": "79c7e3d0-c299-4dcb-8224-4455121ee9b0",
    "_uuid": "d629ff2d2480ee46fbb7e2d37f6b5fab8052498a"
   },
   "outputs": [
    {
     "name": "stdout",
     "output_type": "stream",
     "text": [
      "Downloading data from https://s3.amazonaws.com/img-datasets/mnist.npz\n",
      "11493376/11490434 [==============================] - 1s 0us/step\n"
     ]
    }
   ],
   "source": [
    "(x_train, y_train),(x_test, y_test) = mnist.load_data() "
   ]
  },
  {
   "cell_type": "code",
   "execution_count": 3,
   "metadata": {},
   "outputs": [],
   "source": [
    "images, labels = (x_train[0:1000].reshape(1000,28*28)/ \n",
    "                                                  255, y_train[0:1000])"
   ]
  },
  {
   "cell_type": "code",
   "execution_count": 4,
   "metadata": {},
   "outputs": [],
   "source": [
    "one_hot_labels=np.zeros((len(labels),10))"
   ]
  },
  {
   "cell_type": "code",
   "execution_count": 5,
   "metadata": {},
   "outputs": [],
   "source": [
    "for i, l in enumerate (labels):\n",
    "    one_hot_labels[i][l] =1\n",
    "    labels=one_hot_labels"
   ]
  },
  {
   "cell_type": "code",
   "execution_count": 6,
   "metadata": {},
   "outputs": [],
   "source": [
    "test_images=x_test.reshape(len(x_test),28*28)/255\n",
    "test_labels=np.zeros((len(y_test),10))\n",
    "for i,l in enumerate(y_test):\n",
    "    test_labels[i][l]=1"
   ]
  },
  {
   "cell_type": "code",
   "execution_count": 7,
   "metadata": {},
   "outputs": [],
   "source": [
    "np.random.seed(1)\n",
    "relu=lambda x:(x>0)*x\n",
    "relu2deriv=lambda x: x>=0\n",
    "alpha, iterations, hidden_size, pixels_per_image, num_labels=(0.005,350,40,784,10)"
   ]
  },
  {
   "cell_type": "code",
   "execution_count": 8,
   "metadata": {},
   "outputs": [],
   "source": [
    "weights01=0.2*np.random.random((pixels_per_image,hidden_size))-0.1\n",
    "weights12=0.2*np.random.random((hidden_size, num_labels))-0.1"
   ]
  },
  {
   "cell_type": "code",
   "execution_count": 9,
   "metadata": {},
   "outputs": [],
   "source": [
    "for j in range(iterations):\n",
    "    error, correct_cnt=(0.0,0)\n",
    "    \n",
    "    for i in range (len(images)):\n",
    "        layer_0 =images[i:i+1]\n",
    "        layer_1 =relu(np.dot(layer_0, weights01))\n",
    "        layer_2=np.dot(layer_1, weights12)\n",
    "        error+= np.sum((labels[i:i+1]-layer_2)**2)\n",
    "        correct_cnt+= int(np.argmax(layer_2)==np.argmax(labels[i:i+1]))\n",
    "        \n",
    "        layer_2_delta=(labels[i:i+1]-layer_2)\n",
    "        layer_1_delta=layer_2_delta.dot(weights12.T)*relu2deriv(layer_1)\n",
    "        \n",
    "        weights12+=alpha*layer_1.T.dot(layer_2_delta)\n",
    "        weights01+=alpha*layer_0.T.dot(layer_1_delta)"
   ]
  },
  {
   "cell_type": "code",
   "execution_count": 10,
   "metadata": {},
   "outputs": [
    {
     "name": "stdout",
     "output_type": "stream",
     "text": [
      "I:349Error:0.108Correct:1.0"
     ]
    }
   ],
   "source": [
    "sys.stdout.write(\"\\r\"+\"I:\"+str(j)+\"Error:\" +str(error/float(len(images)))[0:5]+\"Correct:\"+str(correct_cnt/float(len(images))))"
   ]
  }
 ],
 "metadata": {
  "kernelspec": {
   "display_name": "Python 3",
   "language": "python",
   "name": "python3"
  },
  "language_info": {
   "codemirror_mode": {
    "name": "ipython",
    "version": 3
   },
   "file_extension": ".py",
   "mimetype": "text/x-python",
   "name": "python",
   "nbconvert_exporter": "python",
   "pygments_lexer": "ipython3",
   "version": "3.7.6"
  }
 },
 "nbformat": 4,
 "nbformat_minor": 4
}
